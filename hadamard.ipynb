{
 "cells": [
  {
   "cell_type": "code",
   "execution_count": 4,
   "metadata": {},
   "outputs": [],
   "source": [
    "import numpy as np\n",
    "from numpy import linalg as la\n",
    "\n",
    "import theano\n",
    "\n",
    "from theano import tensor as T\n",
    "import theano.tensor.slinalg\n",
    "\n",
    "import scipy\n",
    "from scipy import linalg\n",
    "np.set_printoptions(suppress=True, linewidth=250)\n",
    "\n",
    "from matplotlib import pyplot as plt\n",
    "%matplotlib inline"
   ]
  },
  {
   "cell_type": "code",
   "execution_count": 34,
   "metadata": {},
   "outputs": [],
   "source": [
    "def hadamard(left, right, shape, r):\n",
    "    u1, s1, v1 = left\n",
    "    u2, s2, v2 = right\n",
    "    r = s1.shape[0] if r is None else r\n",
    "    \n",
    "    indices = T.argsort(T.slinalg.kron(T.diag(s1).reshape((1, -1)), T.diag(s2).reshape((1, -1))).ravel())\n",
    "    svds = []\n",
    "    for rg in range(r):\n",
    "        u = T.zeros((shape[0], r))\n",
    "        s = T.zeros((r,))\n",
    "        v = T.zeros((r, shape[1]))\n",
    "        indices_r = indices[r * rg: r * (rg + 1)]\n",
    "        ind1, ind2 = indices_r // s1.shape[0], indices_r % s1.shape[0]\n",
    "        s = T.diag(T.diag(s1)[ind1] * T.diag(s2)[ind2])\n",
    "        for i in np.arange(shape[0]):\n",
    "            u = T.set_subtensor(u[i, :], u1[i, :][ind1] * u2[i, :][ind2])\n",
    "        for i in np.arange(shape[1]):\n",
    "            v = T.set_subtensor(v[:, i], v1[:, i][ind1] * v2[:, i][ind2])\n",
    "        # rq decomposition of v\n",
    "        Qv, Rv = T.nlinalg.qr(v[::-1].T)\n",
    "        Rv = Rv.T[::-1]\n",
    "        Rv = Rv[:, ::-1]\n",
    "        Qv = Qv.T[::-1]\n",
    "        \n",
    "        u = u.dot(s).dot(Rv)\n",
    "        u, s, v = T.nlinalg.svd(u, full_matrices=False)\n",
    "        v = v.dot(Qv)\n",
    "        svds.append((u, s, v))\n",
    "    init_usv = svds[0]\n",
    "    for next_usv in svds[1:]:\n",
    "        u, s, v = init_usv\n",
    "        u1, s1, v1 = next_usv        \n",
    "        v = T.stack((v, v1), 0).reshape((-1, v.shape[1]))\n",
    "        \n",
    "        # rq decomposition of v\n",
    "        Qv, Rv = T.nlinalg.qr(v[::-1].T)\n",
    "        Rv = Rv.T[::-1]\n",
    "        Rv = Rv[:, ::-1]\n",
    "        Qv = Qv.T[::-1]\n",
    "        \n",
    "        u = T.stack((u, u1), 1).reshape((u.shape[0], -1)).dot(T.diag(T.concatenate((s, s1)))).dot(Rv)\n",
    "        u, s, v = T.nlinalg.svd(u, full_matrices=False)\n",
    "        u, s, v, Qv = u[:, :r], s[:r], v[:r, :], Qv[:, :]\n",
    "        v = v.dot(Qv)[:r, :]\n",
    "        init_usv = (u, s, v)\n",
    "    u, s, v = init_usv\n",
    "    s = T.diag(s)\n",
    "    return u, s, v"
   ]
  },
  {
   "cell_type": "code",
   "execution_count": 143,
   "metadata": {},
   "outputs": [],
   "source": [
    "def hadamard_np(left, right, shape, r):\n",
    "    u1, s1, v1 = left\n",
    "    u2, s2, v2 = right\n",
    "    r = s1.shape[0] if r is None else r\n",
    "    \n",
    "    indices = np.argsort(np.kron(np.diag(s1).reshape((1, -1)), np.diag(s2).reshape((1, -1))).ravel())\n",
    "    svds = []\n",
    "    r = r*2\n",
    "    for rg in range(2):\n",
    "        u = np.zeros((shape[0], r))\n",
    "        s = np.zeros((r,))\n",
    "        v = np.zeros((r, shape[1]))\n",
    "        indices_r = indices[r * rg: r * (rg + 1)]\n",
    "        ind1, ind2 = indices_r // s1.shape[0], indices_r % s1.shape[0]\n",
    "        print((np.diag(s1)[ind1] * np.diag(s2)[ind2]).shape)\n",
    "        s = np.diag(np.diag(s1)[ind1] * np.diag(s2)[ind2])\n",
    "        for i in np.arange(shape[0]):\n",
    "            u[i, :] = u1[i, :][ind1] * u2[i, :][ind2]\n",
    "        for i in np.arange(shape[1]):\n",
    "            v[:, i] = v1[:, i][ind1] * v2[:, i][ind2]\n",
    "        # rq decomposition of v\n",
    "        Qv, Rv = la.qr(v[::-1].T)\n",
    "        Rv = Rv.T[::-1]\n",
    "        Rv = Rv[:, ::-1]\n",
    "        Qv = Qv.T[::-1]\n",
    "        \n",
    "        u = u.dot(s).dot(Rv)\n",
    "        u, s, v = la.svd(u, full_matrices=False)\n",
    "        v = v.dot(Qv)\n",
    "        svds.append((u, s, v))\n",
    "    init_usv = svds[0]\n",
    "    for next_usv in svds[1:]:\n",
    "        u, s, v = init_usv\n",
    "        u1, s1, v1 = next_usv        \n",
    "        v = np.vstack((v, v1))\n",
    "        \n",
    "        # rq decomposition of v\n",
    "        Qv, Rv = la.qr(v[::-1].T)\n",
    "        Rv = Rv.T[::-1]\n",
    "        Rv = Rv[:, ::-1]\n",
    "        Qv = Qv.T[::-1]\n",
    "        \n",
    "        u = np.hstack((u, u1)).dot(np.diag(np.concatenate((s, s1)))).dot(Rv)\n",
    "        u, s, v = la.svd(u, full_matrices=False)\n",
    "        u, s, v, Qv = u[:, :r], s[:r], v[:r, :], Qv[:, :]\n",
    "        v = v.dot(Qv)\n",
    "        init_usv = (u, s, v)\n",
    "    u, s, v = init_usv\n",
    "    s = np.diag(s)\n",
    "    return u, s, v\n",
    "\n",
    "\n",
    "def hadamard_np(left, right, shape, r):\n",
    "    u1, s1, v1 = left\n",
    "    u2, s2, v2 = right\n",
    "    r = s1.shape[0] if r is None else r\n",
    "    \n",
    "    u = np.zeros((shape[0], r*r))\n",
    "    s = np.zeros((r*r,))\n",
    "    v = np.zeros((r*r, shape[1]))\n",
    "    u[:, :] = np.repeat(u1, r, 1) * np.tile(u2, (1, r))\n",
    "    s = np.kron(s1, s2)\n",
    "    v[:, :] = np.repeat(v1, r, 0) * np.tile(v2, (r, 1))\n",
    "    Qv, Rv = la.qr(v[::-1].T)\n",
    "    Rv = Rv.T[::-1]\n",
    "    Rv = Rv[:, ::-1]\n",
    "    Qv = Qv.T[::-1]\n",
    "    \n",
    "    u = u.dot(s).dot(Rv)\n",
    "    u, s, v = la.svd(u, full_matrices=False)\n",
    "    v = v.dot(Qv)\n",
    "    return u[:, :], np.diag(s[:]), v[:]"
   ]
  },
  {
   "cell_type": "code",
   "execution_count": 321,
   "metadata": {},
   "outputs": [],
   "source": [
    "shape = (400, 64)\n",
    "x1, x2 = np.random.normal(size=shape), np.random.normal(size=shape)\n",
    "\n",
    "\n",
    "nnext = []\n",
    "for t in range(10, 410, 10):\n",
    "    shape = (400, t)\n",
    "    x1, x2 = np.random.normal(size=shape), np.random.normal(size=shape)\n",
    "    rr = []\n",
    "    for r in range(1, 25):\n",
    "        def csvd(x, r=None):\n",
    "            r = min(x.shape) if r is None else r\n",
    "            u, s, v = la.svd(x, full_matrices=False)\n",
    "            return u[:, :r], np.diag(s[:r]), v[:r]\n",
    "\n",
    "        U1, S1, V1 = csvd(x1, r)\n",
    "        U2, S2, V2 = csvd(x2, r)\n",
    "        U, S, V = hadamard_np((U1, S1, V1), (U1, S1, V1), shape, r)\n",
    "        idx = np.argmax(np.isclose(np.diag(S), 0))\n",
    "        if r > 1 and idx == 0:\n",
    "            nnext.append((r, t))\n",
    "            break\n",
    "        rr.append((np.average(np.isclose(np.diag(S), 0)), np.sum(~np.isclose(np.diag(S), 0))))"
   ]
  },
  {
   "cell_type": "code",
   "execution_count": null,
   "metadata": {},
   "outputs": [],
   "source": [
    "len(nnext)"
   ]
  },
  {
   "cell_type": "code",
   "execution_count": 323,
   "metadata": {},
   "outputs": [
    {
     "data": {
      "text/plain": [
       "[(4, 10),\n",
       " (6, 20),\n",
       " (8, 30),\n",
       " (9, 40),\n",
       " (10, 50),\n",
       " (11, 60),\n",
       " (12, 70),\n",
       " (13, 80),\n",
       " (13, 90),\n",
       " (14, 100),\n",
       " (15, 110),\n",
       " (15, 120),\n",
       " (16, 130),\n",
       " (17, 140),\n",
       " (17, 150),\n",
       " (18, 160),\n",
       " (18, 170),\n",
       " (19, 180),\n",
       " (19, 190),\n",
       " (20, 200),\n",
       " (20, 210),\n",
       " (21, 220),\n",
       " (21, 230),\n",
       " (22, 240),\n",
       " (22, 250),\n",
       " (23, 260),\n",
       " (23, 270),\n",
       " (24, 280),\n",
       " (24, 290),\n",
       " (24, 300)]"
      ]
     },
     "execution_count": 323,
     "output_type": "execute_result",
     "metadata": {}
    }
   ],
   "source": [
    "nnext"
   ]
  },
  {
   "cell_type": "code",
   "execution_count": 335,
   "metadata": {},
   "outputs": [],
   "source": [
    "ranks, tets = list(zip(*nnext))"
   ]
  },
  {
   "cell_type": "code",
   "execution_count": null,
   "metadata": {},
   "outputs": [],
   "source": [
    "ranks, tets = np.array(ranks), np.array(tets)"
   ]
  },
  {
   "cell_type": "code",
   "execution_count": 342,
   "metadata": {},
   "outputs": [
    {
     "data": {
      "text/plain": [
       "[<matplotlib.lines.Line2D at 0x7f0cd21e87b8>]"
      ]
     },
     "execution_count": 342,
     "output_type": "execute_result",
     "metadata": {}
    },
    {
     "data": {
      "image/png": "[encoded data removed]"
     },
     "output_type": "display_data",
     "metadata": {}
    }
   ],
   "source": [
    "plt.plot(tets, ranks**2)"
   ]
  },
  {
   "cell_type": "code",
   "execution_count": 332,
   "metadata": {},
   "outputs": [
    {
     "data": {
      "text/plain": [
       "[<matplotlib.lines.Line2D at 0x7f0cd105e208>]"
      ]
     },
     "execution_count": 332,
     "output_type": "execute_result",
     "metadata": {}
    },
    {
     "data": {
      "image/png": "[encoded data removed]"
     },
     "output_type": "display_data",
     "metadata": {}
    }
   ],
   "source": [
    "plt.plot(*list(zip(*nnext))[::-1])"
   ]
  },
  {
   "cell_type": "code",
   "execution_count": null,
   "metadata": {},
   "outputs": [],
   "source": [
    ""
   ]
  },
  {
   "cell_type": "code",
   "execution_count": 300,
   "metadata": {},
   "outputs": [],
   "source": [
    "percents, ranks = zip(*rr)"
   ]
  },
  {
   "cell_type": "code",
   "execution_count": 301,
   "metadata": {},
   "outputs": [
    {
     "data": {
      "text/plain": [
       "[<matplotlib.lines.Line2D at 0x7f0ccf113da0>]"
      ]
     },
     "execution_count": 301,
     "output_type": "execute_result",
     "metadata": {}
    },
    {
     "data": {
      "image/png": "[encoded data removed]"
     },
     "output_type": "display_data",
     "metadata": {}
    }
   ],
   "source": [
    "plt.plot(np.arange(1, len(rr) + 1), ranks)\n",
    "plt.plot(np.arange(1, len(rr) + 1), np.clip(np.arange(1, len(rr) + 1)**2, a_min=0, a_max=min(shape)))"
   ]
  },
  {
   "cell_type": "code",
   "execution_count": 302,
   "metadata": {},
   "outputs": [
    {
     "data": {
      "text/plain": [
       "[<matplotlib.lines.Line2D at 0x7f0ccd9843c8>]"
      ]
     },
     "execution_count": 302,
     "output_type": "execute_result",
     "metadata": {}
    },
    {
     "data": {
      "image/png": "[encoded data removed]"
     },
     "output_type": "display_data",
     "metadata": {}
    }
   ],
   "source": [
    "plt.plot(np.arange(1, len(rr) + 1), percents)"
   ]
  },
  {
   "cell_type": "code",
   "execution_count": 303,
   "metadata": {},
   "outputs": [
    {
     "data": {
      "text/plain": [
       "(0.0,\n",
       " 0.25,\n",
       " 0.33333333333333331,\n",
       " 0.375,\n",
       " 0.40000000000000002,\n",
       " 0.41666666666666669,\n",
       " 0.42857142857142855,\n",
       " 0.4375,\n",
       " 0.296875,\n",
       " 0.140625,\n",
       " 0.0,\n",
       " 0.0,\n",
       " 0.0,\n",
       " 0.0,\n",
       " 0.0,\n",
       " 0.0,\n",
       " 0.0,\n",
       " 0.0,\n",
       " 0.0,\n",
       " 0.0,\n",
       " 0.0,\n",
       " 0.0,\n",
       " 0.0,\n",
       " 0.0)"
      ]
     },
     "execution_count": 303,
     "output_type": "execute_result",
     "metadata": {}
    }
   ],
   "source": [
    "percents"
   ]
  },
  {
   "cell_type": "code",
   "execution_count": 304,
   "metadata": {},
   "outputs": [],
   "source": [
    "m1 = (U1 @ S1 @ V1) * (U1 @ S1 @ V1)\n",
    "m2 = U @ S @ V"
   ]
  },
  {
   "cell_type": "code",
   "execution_count": 204,
   "metadata": {},
   "outputs": [
    {
     "data": {
      "text/plain": [
       "array([[ 0., -0., -0., ..., -0., -0., -0.],\n",
       "       [ 0., -0., -0., ...,  0.,  0.,  0.],\n",
       "       [-0.,  0., -0., ..., -0.,  0., -0.],\n",
       "       ..., \n",
       "       [ 0., -0.,  0., ...,  0.,  0., -0.],\n",
       "       [-0.,  0.,  0., ...,  0.,  0.,  0.],\n",
       "       [ 0., -0., -0., ...,  0.,  0.,  0.]])"
      ]
     },
     "execution_count": 204,
     "output_type": "execute_result",
     "metadata": {}
    }
   ],
   "source": [
    "m1 - m2"
   ]
  },
  {
   "cell_type": "code",
   "execution_count": 205,
   "metadata": {},
   "outputs": [
    {
     "data": {
      "text/plain": [
       "3.0736090219424316e-15"
      ]
     },
     "execution_count": 205,
     "output_type": "execute_result",
     "metadata": {}
    }
   ],
   "source": [
    "la.norm(m1 - m2) / (la.norm(m1))"
   ]
  },
  {
   "cell_type": "code",
   "execution_count": 206,
   "metadata": {},
   "outputs": [
    {
     "data": {
      "text/plain": [
       "array([ 57.9098209 ,  19.86503604,  18.41474516,  17.46516787,  16.83715884,  16.30350211,  15.9436219 ,  15.08237045,  14.5996072 ,  14.25330103,  13.44288551,  13.05663751,  12.97772244,  12.16928412,  12.04492513,  11.90485463,  11.55243137,\n",
       "        11.28420776,  11.11114244,  10.44075384,   9.98648667,   9.80912393,   9.63406614,   9.38560873,   9.03992915,   8.97240675,   8.85753499,   8.56061326,   8.25354643,   7.97946533,   7.82343523,   7.67198812,   7.33093211,   7.23070531,\n",
       "         6.9701494 ,   6.72844536,   6.49956446,   6.25353304,   6.22790498,   6.13480627,   5.92031079,   5.76891495,   5.69403561,   5.45710882,   5.44254158,   5.1595679 ,   4.95631484,   4.65741857,   4.56920585,   4.36397027,   4.20111533,\n",
       "         4.10017022,   3.88481709,   3.73040608,   3.58061673,   3.48710151,   3.41861861,   3.31613343,   3.14023045,   2.99153416,   2.79994652,   2.71877347,   2.5869304 ,   2.49764974,   2.38869573,   2.18698387,   2.13721207,   2.03009414,\n",
       "         1.87936385,   1.78891137,   1.62597699,   1.48073269,   1.44035197,   1.2363248 ,   1.09172187,   1.05670575,   1.00775676,   0.87049232,   0.79994462,   0.69412055])"
      ]
     },
     "execution_count": 206,
     "output_type": "execute_result",
     "metadata": {}
    }
   ],
   "source": [
    ""
   ]
  },
  {
   "cell_type": "code",
   "execution_count": 200,
   "metadata": {},
   "outputs": [],
   "source": [
    "Up, Sp, Vp = hadamard_np((U1, S1, V1), (U1, S1, V1), shape, r)"
   ]
  },
  {
   "cell_type": "code",
   "execution_count": 32,
   "metadata": {},
   "outputs": [
    {
     "data": {
      "text/plain": [
       "array([[-6.36843763,  0.        ,  0.        ,  0.        ],\n",
       "       [ 0.        , -1.29598666,  0.        ,  0.        ],\n",
       "       [ 0.        ,  0.        , -1.67971558,  0.        ],\n",
       "       [ 0.        ,  0.        ,  0.        , -2.86854654]])"
      ]
     },
     "execution_count": 32,
     "output_type": "execute_result",
     "metadata": {}
    }
   ],
   "source": [
    ""
   ]
  },
  {
   "cell_type": "code",
   "execution_count": 18,
   "metadata": {},
   "outputs": [
    {
     "data": {
      "text/plain": [
       "array([ 4,  5,  6,  8, 10, 12, 12, 15, 18])"
      ]
     },
     "execution_count": 18,
     "output_type": "execute_result",
     "metadata": {}
    }
   ],
   "source": [
    "scipy.linalg.kron(np.array([1, 2, 3]).reshape((-1, 1)[::-1]), np.array([4, 5, 6]).reshape((-1, 1)[::-1])).ravel()"
   ]
  },
  {
   "cell_type": "code",
   "execution_count": 24,
   "metadata": {},
   "outputs": [],
   "source": [
    "s1 = T.diag(theano.shared(np.random.random(10)))\n",
    "s2 = T.diag(theano.shared(np.random.random(10)))\n",
    "r = 5"
   ]
  },
  {
   "cell_type": "code",
   "execution_count": 27,
   "metadata": {},
   "outputs": [],
   "source": [
    "indices = T.argsort(T.slinalg.kron(T.diag(s1).reshape((1, -1)), T.diag(s2).reshape((1, -1))).ravel())[::-1][:r]"
   ]
  },
  {
   "cell_type": "code",
   "execution_count": 28,
   "metadata": {},
   "outputs": [],
   "source": [
    "ind1, ind2 = indices // s1.shape[0], indices % s1.shape[0]"
   ]
  },
  {
   "cell_type": "code",
   "execution_count": 32,
   "metadata": {},
   "outputs": [],
   "source": [
    "max_elems = T.diag(s1)[ind1] * T.diag(s2)[ind2]\n",
    "\n",
    "max_elems2 = (T.slinalg.kron(T.diag(s1).reshape((1, -1)), T.diag(s2).reshape((1, -1))).ravel())[indices]"
   ]
  },
  {
   "cell_type": "code",
   "execution_count": 272,
   "metadata": {},
   "outputs": [],
   "source": [
    "u1, s1, v1, u2, s2, v2 = [T.matrix(name) for name in ['u1', 's1', 'v1', 'u2', 's2', 'v2']]\n",
    "\n",
    "shape = (200, 200)\n",
    "r = 5"
   ]
  },
  {
   "cell_type": "code",
   "execution_count": 35,
   "metadata": {},
   "outputs": [],
   "source": [
    "f = theano.function([u1, s1, v1, u2, s2, v2], hadamard((u1, s1, v1), (u2, s2, v2), shape, r))"
   ]
  },
  {
   "cell_type": "code",
   "execution_count": 274,
   "metadata": {},
   "outputs": [],
   "source": [
    "x1, x2 = np.random.normal(size=shape), np.random.normal(size=shape)"
   ]
  },
  {
   "cell_type": "code",
   "execution_count": 130,
   "metadata": {},
   "outputs": [],
   "source": [
    ""
   ]
  },
  {
   "cell_type": "code",
   "execution_count": 38,
   "metadata": {},
   "outputs": [],
   "source": [
    "U, S, V = f(U1, S1, V1, U1, S1, V1)"
   ]
  },
  {
   "cell_type": "code",
   "execution_count": 56,
   "metadata": {},
   "outputs": [],
   "source": [
    "m1 = (U1 @ S1 @ V1) * (U1 @ S1 @ V1)\n",
    "m2 = U @ S @ V"
   ]
  },
  {
   "cell_type": "code",
   "execution_count": 57,
   "metadata": {},
   "outputs": [
    {
     "data": {
      "text/plain": [
       "array([[ 0.,  0.,  0., ...,  0.,  0., -0.],\n",
       "       [ 0.,  0.,  0., ...,  0.,  0., -0.],\n",
       "       [ 0.,  0.,  0., ...,  0.,  0., -0.],\n",
       "       ..., \n",
       "       [ 0.,  0.,  0., ...,  0.,  0.,  0.],\n",
       "       [ 0.,  0.,  0., ...,  0.,  0., -0.],\n",
       "       [ 0.,  0.,  0., ...,  0.,  0., -0.]])"
      ]
     },
     "execution_count": 57,
     "output_type": "execute_result",
     "metadata": {}
    }
   ],
   "source": [
    "m1 - m2"
   ]
  },
  {
   "cell_type": "code",
   "execution_count": 58,
   "metadata": {},
   "outputs": [
    {
     "data": {
      "text/plain": [
       "4.9424554320502884e-15"
      ]
     },
     "execution_count": 58,
     "output_type": "execute_result",
     "metadata": {}
    }
   ],
   "source": [
    "la.norm(m1 - m2) / (la.norm(m1))"
   ]
  },
  {
   "cell_type": "code",
   "execution_count": 162,
   "metadata": {},
   "outputs": [
    {
     "data": {
      "text/plain": [
       "array([[ 0.03699734, -0.00280174, -0.00280174,  0.00240964,  0.00240964,  0.0104432 , -0.00241367, -0.00241367,  0.00888653,  0.00487989,  0.00487989, -0.0014662 , -0.0014662 ,  0.000507  ,  0.000507  ,  0.00917638],\n",
       "       [-0.00280174,  0.0104432 ,  0.0104432 , -0.00241367, -0.00241367,  0.00104933,  0.00140529,  0.00140529, -0.00146161, -0.0014662 , -0.0014662 ,  0.00112486,  0.00112486, -0.00012811, -0.00012811,  0.00100172],\n",
       "       [-0.00280174,  0.0104432 ,  0.0104432 , -0.00241367, -0.00241367,  0.00104933,  0.00140529,  0.00140529, -0.00146161, -0.0014662 , -0.0014662 ,  0.00112486,  0.00112486, -0.00012811, -0.00012811,  0.00100172],\n",
       "       [ 0.00240964, -0.00241367, -0.00241367,  0.00888653,  0.00888653,  0.00140529, -0.00146161, -0.00146161,  0.00133693,  0.000507  ,  0.000507  , -0.00012811, -0.00012811,  0.00127015,  0.00127015, -0.00022579],\n",
       "       [ 0.00240964, -0.00241367, -0.00241367,  0.00888653,  0.00888653,  0.00140529, -0.00146161, -0.00146161,  0.00133693,  0.000507  ,  0.000507  , -0.00012811, -0.00012811,  0.00127015,  0.00127015, -0.00022579],\n",
       "       [ 0.0104432 ,  0.00104933,  0.00104933,  0.00140529,  0.00140529,  0.02723657,  0.00057357,  0.00057357,  0.00867662,  0.00112486,  0.00112486,  0.00027147,  0.00027147, -0.00295809, -0.00295809,  0.01259764],\n",
       "       [-0.00241367,  0.00140529,  0.00140529, -0.00146161, -0.00146161,  0.00057357,  0.00867662,  0.00867662, -0.00170784, -0.00012811, -0.00012811, -0.00295809, -0.00295809,  0.00049056,  0.00049056,  0.00177501],\n",
       "       [-0.00241367,  0.00140529,  0.00140529, -0.00146161, -0.00146161,  0.00057357,  0.00867662,  0.00867662, -0.00170784, -0.00012811, -0.00012811, -0.00295809, -0.00295809,  0.00049056,  0.00049056,  0.00177501],\n",
       "       [ 0.00888653, -0.00146161, -0.00146161,  0.00133693,  0.00133693,  0.00867662, -0.00170784, -0.00170784,  0.02771412,  0.00127015,  0.00127015,  0.00049056,  0.00049056, -0.00114459, -0.00114459,  0.01492274],\n",
       "       [ 0.00487989, -0.0014662 , -0.0014662 ,  0.000507  ,  0.000507  ,  0.00112486, -0.00012811, -0.00012811,  0.00127015,  0.00917638,  0.00917638,  0.00100172,  0.00100172, -0.00022579, -0.00022579,  0.0001298 ],\n",
       "       [ 0.00487989, -0.0014662 , -0.0014662 ,  0.000507  ,  0.000507  ,  0.00112486, -0.00012811, -0.00012811,  0.00127015,  0.00917638,  0.00917638,  0.00100172,  0.00100172, -0.00022579, -0.00022579,  0.0001298 ],\n",
       "       [-0.0014662 ,  0.00112486,  0.00112486, -0.00012811, -0.00012811,  0.00027147, -0.00295809, -0.00295809,  0.00049056,  0.00100172,  0.00100172,  0.01259764,  0.01259764,  0.00177501,  0.00177501, -0.00016303],\n",
       "       [-0.0014662 ,  0.00112486,  0.00112486, -0.00012811, -0.00012811,  0.00027147, -0.00295809, -0.00295809,  0.00049056,  0.00100172,  0.00100172,  0.01259764,  0.01259764,  0.00177501,  0.00177501, -0.00016303],\n",
       "       [ 0.000507  , -0.00012811, -0.00012811,  0.00127015,  0.00127015, -0.00295809,  0.00049056,  0.00049056, -0.00114459, -0.00022579, -0.00022579,  0.00177501,  0.00177501,  0.01492274,  0.01492274,  0.00114372],\n",
       "       [ 0.000507  , -0.00012811, -0.00012811,  0.00127015,  0.00127015, -0.00295809,  0.00049056,  0.00049056, -0.00114459, -0.00022579, -0.00022579,  0.00177501,  0.00177501,  0.01492274,  0.01492274,  0.00114372],\n",
       "       [ 0.00917638,  0.00100172,  0.00100172, -0.00022579, -0.00022579,  0.01259764,  0.00177501,  0.00177501,  0.01492274,  0.0001298 ,  0.0001298 , -0.00016303, -0.00016303,  0.00114372,  0.00114372,  0.02708759]])"
      ]
     },
     "execution_count": 162,
     "output_type": "execute_result",
     "metadata": {}
    }
   ],
   "source": [
    "U.T @ U"
   ]
  },
  {
   "cell_type": "code",
   "execution_count": null,
   "metadata": {},
   "outputs": [],
   "source": [
    ""
   ]
  },
  {
   "cell_type": "code",
   "execution_count": null,
   "metadata": {},
   "outputs": [],
   "source": [
    ""
   ]
  },
  {
   "cell_type": "code",
   "execution_count": 91,
   "metadata": {},
   "outputs": [
    {
     "data": {
      "text/plain": [
       "[<matplotlib.lines.Line2D at 0x7f36676ef828>]"
      ]
     },
     "execution_count": 91,
     "output_type": "execute_result",
     "metadata": {}
    },
    {
     "data": {
      "image/png": "[encoded data removed]"
     },
     "output_type": "display_data",
     "metadata": {}
    }
   ],
   "source": [
    "plt.plot(np.sort(np.kron(np.diag(S1), np.diag(S2))))"
   ]
  },
  {
   "cell_type": "code",
   "execution_count": 72,
   "metadata": {},
   "outputs": [],
   "source": [
    "pp = 10*np.arange(4)[:, None] + np.arange(5)\n",
    "tt = 10*np.arange(4)[:, None] + np.arange(5)"
   ]
  },
  {
   "cell_type": "code",
   "execution_count": 75,
   "metadata": {},
   "outputs": [
    {
     "ename": "TypeError",
     "evalue": "tile() takes 2 positional arguments but 3 were given",
     "output_type": "error",
     "traceback": [
      "\u001b[1;31m---------------------------------------------------------------------------\u001b[0m",
      "\u001b[1;31mTypeError\u001b[0m                                 Traceback (most recent call last)",
      "\u001b[1;32m<ipython-input-75-919b1aeedd8d>\u001b[0m in \u001b[0;36m<module>\u001b[1;34m()\u001b[0m\n\u001b[1;32m----> 1\u001b[1;33m \u001b[0mnp\u001b[0m\u001b[1;33m.\u001b[0m\u001b[0mrepeat\u001b[0m\u001b[1;33m(\u001b[0m\u001b[0mpp\u001b[0m\u001b[1;33m,\u001b[0m \u001b[0mtt\u001b[0m\u001b[1;33m.\u001b[0m\u001b[0mshape\u001b[0m\u001b[1;33m[\u001b[0m\u001b[1;36m0\u001b[0m\u001b[1;33m]\u001b[0m\u001b[1;33m,\u001b[0m \u001b[1;36m0\u001b[0m\u001b[1;33m)\u001b[0m\u001b[1;33m,\u001b[0m \u001b[0mnp\u001b[0m\u001b[1;33m.\u001b[0m\u001b[0mtile\u001b[0m\u001b[1;33m(\u001b[0m\u001b[0mtt\u001b[0m\u001b[1;33m,\u001b[0m \u001b[0mpp\u001b[0m\u001b[1;33m.\u001b[0m\u001b[0mshape\u001b[0m\u001b[1;33m[\u001b[0m\u001b[1;36m0\u001b[0m\u001b[1;33m]\u001b[0m\u001b[1;33m,\u001b[0m \u001b[1;36m0\u001b[0m\u001b[1;33m)\u001b[0m\u001b[1;33m\u001b[0m\u001b[0m\n\u001b[0m",
      "\u001b[1;31mTypeError\u001b[0m: tile() takes 2 positional arguments but 3 were given"
     ]
    }
   ],
   "source": [
    ""
   ]
  },
  {
   "cell_type": "code",
   "execution_count": 104,
   "metadata": {},
   "outputs": [
    {
     "data": {
      "text/plain": [
       "array([[   0,    0,    0,    0,    0,    0,    1,    2,    3,    4,    0,    2,    4,    6,    8,    0,    3,    6,    9,   12,    0,    4,    8,   12,   16],\n",
       "       [ 100,  110,  120,  130,  140,  110,  121,  132,  143,  154,  120,  132,  144,  156,  168,  130,  143,  156,  169,  182,  140,  154,  168,  182,  196],\n",
       "       [ 400,  420,  440,  460,  480,  420,  441,  462,  483,  504,  440,  462,  484,  506,  528,  460,  483,  506,  529,  552,  480,  504,  528,  552,  576],\n",
       "       [ 900,  930,  960,  990, 1020,  930,  961,  992, 1023, 1054,  960,  992, 1024, 1056, 1088,  990, 1023, 1056, 1089, 1122, 1020, 1054, 1088, 1122, 1156]])"
      ]
     },
     "execution_count": 104,
     "output_type": "execute_result",
     "metadata": {}
    }
   ],
   "source": [
    "np.repeat(pp, tt.shape[1], 1) * np.tile(tt, (1, pp.shape[1]))"
   ]
  },
  {
   "cell_type": "code",
   "execution_count": 100,
   "metadata": {},
   "outputs": [],
   "source": [
    "uu = np.zeros((tt.shape[0], tt.shape[1] * pp.shape[1]))\n",
    "for i in np.arange(tt.shape[0]):\n",
    "    uu[i, :] = np.kron(pp[i, :], tt[i, :])"
   ]
  },
  {
   "cell_type": "code",
   "execution_count": 105,
   "metadata": {},
   "outputs": [
    {
     "data": {
      "text/plain": [
       "array([[ 0.,  0.,  0.,  0.,  0.,  0.,  0.,  0.,  0.,  0.,  0.,  0.,  0.,  0.,  0.,  0.,  0.,  0.,  0.,  0.,  0.,  0.,  0.,  0.,  0.],\n",
       "       [ 0.,  0.,  0.,  0.,  0.,  0.,  0.,  0.,  0.,  0.,  0.,  0.,  0.,  0.,  0.,  0.,  0.,  0.,  0.,  0.,  0.,  0.,  0.,  0.,  0.],\n",
       "       [ 0.,  0.,  0.,  0.,  0.,  0.,  0.,  0.,  0.,  0.,  0.,  0.,  0.,  0.,  0.,  0.,  0.,  0.,  0.,  0.,  0.,  0.,  0.,  0.,  0.],\n",
       "       [ 0.,  0.,  0.,  0.,  0.,  0.,  0.,  0.,  0.,  0.,  0.,  0.,  0.,  0.,  0.,  0.,  0.,  0.,  0.,  0.,  0.,  0.,  0.,  0.,  0.]])"
      ]
     },
     "execution_count": 105,
     "output_type": "execute_result",
     "metadata": {}
    }
   ],
   "source": [
    "uu - np.repeat(pp, tt.shape[1], 1) * np.tile(tt, (1, pp.shape[1]))"
   ]
  },
  {
   "cell_type": "code",
   "execution_count": 102,
   "metadata": {},
   "outputs": [
    {
     "data": {
      "text/plain": [
       "array([[ 0,  0,  0,  0,  1,  1,  1,  1,  2,  2,  2,  2,  3,  3,  3,  3,  4,  4,  4,  4],\n",
       "       [10, 10, 10, 10, 11, 11, 11, 11, 12, 12, 12, 12, 13, 13, 13, 13, 14, 14, 14, 14],\n",
       "       [20, 20, 20, 20, 21, 21, 21, 21, 22, 22, 22, 22, 23, 23, 23, 23, 24, 24, 24, 24],\n",
       "       [30, 30, 30, 30, 31, 31, 31, 31, 32, 32, 32, 32, 33, 33, 33, 33, 34, 34, 34, 34]])"
      ]
     },
     "execution_count": 102,
     "output_type": "execute_result",
     "metadata": {}
    }
   ],
   "source": [
    "np.repeat(pp, tt.shape[0], 1)"
   ]
  },
  {
   "cell_type": "code",
   "execution_count": 103,
   "metadata": {},
   "outputs": [
    {
     "data": {
      "text/plain": [
       "array([[ 0,  1,  2,  3,  4,  0,  1,  2,  3,  4,  0,  1,  2,  3,  4,  0,  1,  2,  3,  4,  0,  1,  2,  3,  4],\n",
       "       [10, 11, 12, 13, 14, 10, 11, 12, 13, 14, 10, 11, 12, 13, 14, 10, 11, 12, 13, 14, 10, 11, 12, 13, 14],\n",
       "       [20, 21, 22, 23, 24, 20, 21, 22, 23, 24, 20, 21, 22, 23, 24, 20, 21, 22, 23, 24, 20, 21, 22, 23, 24],\n",
       "       [30, 31, 32, 33, 34, 30, 31, 32, 33, 34, 30, 31, 32, 33, 34, 30, 31, 32, 33, 34, 30, 31, 32, 33, 34]])"
      ]
     },
     "execution_count": 103,
     "output_type": "execute_result",
     "metadata": {}
    }
   ],
   "source": [
    "np.tile(tt, (1, pp.shape[1]))"
   ]
  },
  {
   "cell_type": "code",
   "execution_count": null,
   "metadata": {},
   "outputs": [],
   "source": [
    ""
   ]
  }
 ],
 "metadata": {
  "kernelspec": {
   "display_name": "Python 3",
   "language": "python",
   "name": "python3"
  },
  "language_info": {
   "codemirror_mode": {
    "name": "ipython",
    "version": 3.0
   },
   "file_extension": ".py",
   "mimetype": "text/x-python",
   "name": "python",
   "nbconvert_exporter": "python",
   "pygments_lexer": "ipython3",
   "version": "3.5.1"
  }
 },
 "nbformat": 4,
 "nbformat_minor": 0
}