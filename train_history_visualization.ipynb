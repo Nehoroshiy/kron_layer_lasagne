{
 "cells": [
  {
   "cell_type": "code",
   "execution_count": null,
   "metadata": {
    "collapsed": true
   },
   "outputs": [],
   "source": [
    "import pickle\n",
    "import numpy as np\n",
    "\n",
    "from matplotlib import pyplot as plt\n",
    "\n",
    "%matplotlib inline"
   ]
  },
  {
   "cell_type": "code",
   "execution_count": null,
   "metadata": {
    "collapsed": true
   },
   "outputs": [],
   "source": [
    "def max_sqrt_factor(n):\n",
    "    max_factor = 1\n",
    "    for i in np.arange(1, np.sqrt(n) + 1, dtype=int):\n",
    "        if n % i == 0:\n",
    "            max_factor = i\n",
    "    return max_factor\n",
    "\n",
    "\n",
    "def compute_rank(input_shape, units, index, percentage):\n",
    "    block_shape = (input_shape[index], max_sqrt_factor(units))\n",
    "    outer_shape = (int(np.prod(input_shape[1:]) / block_shape[0]), units // block_shape[1])\n",
    "    max_rank = int(min(np.prod(block_shape), np.prod(outer_shape)))\n",
    "    return max(1, int(max_rank * percentage))"
   ]
  },
  {
   "cell_type": "code",
   "execution_count": null,
   "metadata": {
    "collapsed": false
   },
   "outputs": [],
   "source": [
    "def visualize_krons(k=0):\n",
    "    results = pickle.load(open('results/401_history.dict', 'r'))\n",
    "\n",
    "    f, axes = plt.subplots(1, 2, figsize=(20, 10))\n",
    "\n",
    "    ax1, ax2 = axes\n",
    "\n",
    "    #results = {\"dense\": results}\n",
    "\n",
    "    names = list(results.keys())\n",
    "\n",
    "    filtered = [(name, np.mean(results[name]['val_acc'][-10:])) for name in results.keys()]\n",
    "    from operator import itemgetter\n",
    "    filtered.sort(key=itemgetter(1), reverse=True)\n",
    "    filtered = filtered[:]\n",
    "    filtered_names = zip(*filtered)[0]\n",
    "    filtered_results = {name: results[name] for name in zip(*filtered)[0]}\n",
    "\n",
    "    for name in filtered_names:\n",
    "        train_seq = filtered_results[name]['train_acc'][k:]\n",
    "        if 'kron' in name:\n",
    "            name = name.split(',')[0] + str(compute_rank((None, 64, 7, 7), 1024, 3, float(name.split(',')[1][:-2])))\n",
    "        ax1.plot(np.arange(len(train_seq)) + k + 1, train_seq, label=name)\n",
    "\n",
    "    for name in filtered_names:\n",
    "        val_seq = filtered_results[name]['val_acc'][k:]\n",
    "        if 'kron' in name:\n",
    "            name = name.split(',')[0] + str(compute_rank((None, 64, 7, 7), 1024, 3, float(name.split(',')[1][:-2])))\n",
    "        ax2.plot(np.arange(len(val_seq)) + k + 1, val_seq, label=name)\n",
    "\n",
    "    ax1.legend(loc=4)\n",
    "    ax1.set_xlabel('epoch')\n",
    "    ax1.set_ylabel('accuracy')\n",
    "    ax1.set_title('train accuracy')\n",
    "    ax2.legend(loc=4)\n",
    "    ax2.set_xlabel('epoch')\n",
    "    ax2.set_ylabel('accuracy')\n",
    "    ax2.set_title('validation accuracy')\n",
    "    #plt.savefig('results_look.png', dpi=200)"
   ]
  },
  {
   "cell_type": "code",
   "execution_count": null,
   "metadata": {
    "collapsed": true
   },
   "outputs": [],
   "source": [
    "def visualize_dense_only(k=0):\n",
    "    results = pickle.load(open('models/default_dense_model.dict', 'r'))\n",
    "\n",
    "    f, axes = plt.subplots(1, 2, figsize=(20, 10))\n",
    "\n",
    "    ax1, ax2 = axes\n",
    "\n",
    "    results = {\"dense\": results}\n",
    "\n",
    "    names = list(results.keys())\n",
    "\n",
    "    filtered = [(name, np.mean(results[name]['val_acc'][-10:])) for name in results.keys()]\n",
    "    from operator import itemgetter\n",
    "    filtered.sort(key=itemgetter(1), reverse=True)\n",
    "    filtered = filtered[:]\n",
    "    filtered_names = zip(*filtered)[0]\n",
    "    filtered_results = {name: results[name] for name in zip(*filtered)[0]}\n",
    "\n",
    "    for name in filtered_names:\n",
    "        train_seq = filtered_results[name]['train_acc'][k:]\n",
    "        if 'kron' in name:\n",
    "            name = name.split(',')[0] + str(compute_rank((None, 64, 7, 7), 1024, 3, float(name.split(',')[1][:-2])))\n",
    "        ax1.plot(np.arange(len(train_seq)) + k + 1, train_seq, label=name)\n",
    "\n",
    "    for name in filtered_names:\n",
    "        val_seq = filtered_results[name]['val_acc'][k:]\n",
    "        if 'kron' in name:\n",
    "            name = name.split(',')[0] + str(compute_rank((None, 64, 7, 7), 1024, 3, float(name.split(',')[1][:-2])))\n",
    "        ax2.plot(np.arange(len(val_seq)) + k + 1, val_seq, label=name)\n",
    "\n",
    "    ax1.legend(loc=4)\n",
    "    ax1.set_xlabel('epoch')\n",
    "    ax1.set_ylabel('accuracy')\n",
    "    ax1.set_title('train accuracy')\n",
    "    ax2.legend(loc=4)\n",
    "    ax2.set_xlabel('epoch')\n",
    "    ax2.set_ylabel('accuracy')\n",
    "    ax2.set_title('validation accuracy')\n",
    "    #plt.savefig('results_look.png', dpi=200)"
   ]
  },
  {
   "cell_type": "code",
   "execution_count": null,
   "metadata": {
    "collapsed": false
   },
   "outputs": [],
   "source": [
    "visualize_krons(10)"
   ]
  },
  {
   "cell_type": "code",
   "execution_count": null,
   "metadata": {
    "collapsed": false
   },
   "outputs": [],
   "source": [
    "visualize_dense_only(0)"
   ]
  }
 ],
 "metadata": {
  "kernelspec": {
   "display_name": "Python 2",
   "language": "python",
   "name": "python2"
  },
  "language_info": {
   "codemirror_mode": {
    "name": "ipython",
    "version": 2
   },
   "file_extension": ".py",
   "mimetype": "text/x-python",
   "name": "python",
   "nbconvert_exporter": "python",
   "pygments_lexer": "ipython2",
   "version": "2.7.11"
  }
 },
 "nbformat": 4,
 "nbformat_minor": 0
}
