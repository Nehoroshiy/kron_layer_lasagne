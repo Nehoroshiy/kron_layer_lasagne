{
 "cells": [
  {
   "cell_type": "code",
   "execution_count": 20,
   "metadata": {
    "collapsed": true
   },
   "outputs": [],
   "source": [
    "import os\n",
    "import sys\n",
    "import time\n",
    "import theano\n",
    "import lasagne\n",
    "import pickle\n",
    "import numpy as np\n",
    "\n",
    "import theano.tensor as T\n",
    "\n",
    "from utils import iterate_minibatches"
   ]
  },
  {
   "cell_type": "code",
   "execution_count": 3,
   "metadata": {
    "collapsed": true
   },
   "outputs": [],
   "source": [
    "def build_custom_cnn(input_var=None, widths=None, drop_input=.2,\n",
    "                     drop_hidden=.5):\n",
    "    # By default, this creates the same network as `build_mlp`, but it can be\n",
    "    # customized with respect to the number and size of hidden layers. This\n",
    "    # mostly showcases how creating a network in Python code can be a lot more\n",
    "    # flexible than a configuration file. Note that to make the code easier,\n",
    "    # all the layers are just called `network` -- there is no need to give them\n",
    "    # different names if all we return is the last one we created anyway; we\n",
    "    # just used different names above for clarity.\n",
    "\n",
    "    widths = widths if widths is not None else [100]\n",
    "\n",
    "    # Input layer and dropout (with shortcut `dropout` for `DropoutLayer`):\n",
    "    network = lasagne.layers.InputLayer(shape=(None, 1, 28, 28),\n",
    "                                        input_var=input_var)\n",
    "    if drop_input:\n",
    "        network = lasagne.layers.dropout(network, p=drop_input)\n",
    "    # Hidden layers and dropout:\n",
    "    nonlin = lasagne.nonlinearities.rectify\n",
    "\n",
    "    \n",
    "    # Convolutional layer with 32 kernels of size 5x5. Strided and padded\n",
    "    # convolutions are supported as well; see the docstring.\n",
    "    network = lasagne.layers.Conv2DLayer(\n",
    "            network, num_filters=32, filter_size=(5, 5),\n",
    "            stride=1, pad=2,\n",
    "            nonlinearity=lasagne.nonlinearities.rectify,\n",
    "            W=lasagne.init.GlorotUniform())\n",
    "    # Expert note: Lasagne provides alternative convolutional layers that\n",
    "    # override Theano's choice of which implementation to use; for details\n",
    "    # please see http://lasagne.readthedocs.org/en/latest/user/tutorial.html.\n",
    "    network = lasagne.layers.MaxPool2DLayer(network, pool_size=(2, 2))\n",
    "\n",
    "    # Another convolution with 32 5x5 kernels, and another 2x2 pooling:\n",
    "    network = lasagne.layers.Conv2DLayer(\n",
    "            network, num_filters=64, filter_size=(5, 5),\n",
    "            stride=1, pad=2,\n",
    "            nonlinearity=lasagne.nonlinearities.rectify)\n",
    "    network = lasagne.layers.MaxPool2DLayer(network, pool_size=(2, 2))\n",
    "\n",
    "    \n",
    "    for width in widths:\n",
    "        network = lasagne.layers.DenseLayer(\n",
    "                network, width, nonlinearity=nonlin)\n",
    "        if drop_hidden:\n",
    "            network = lasagne.layers.dropout(network, p=drop_hidden)\n",
    "    # Output layer:\n",
    "    softmax = lasagne.nonlinearities.softmax\n",
    "    network = lasagne.layers.DenseLayer(network, 10, nonlinearity=softmax)\n",
    "    return network"
   ]
  },
  {
   "cell_type": "code",
   "execution_count": 32,
   "metadata": {
    "collapsed": true
   },
   "outputs": [],
   "source": [
    "def generate_train_acc(input_X, target_y, widths, learning_rate=1e-4, model_name=None):\n",
    "\n",
    "    dense_output = build_custom_cnn(input_X, widths=widths)\n",
    "    if model_name is not None and os.path.isfile(os.path.join('models', model_name + '.npz')):\n",
    "        with np.load(os.path.join('models', model_name + '.npz')) as f:\n",
    "            param_values = [f['arr_%d' % i] for i in range(len(f.files))]\n",
    "            lasagne.layers.set_all_param_values(dense_output, param_values)\n",
    "        \n",
    "    #предсказание нейронки (theano-преобразование)\n",
    "    y_predicted = lasagne.layers.get_output(dense_output)\n",
    "\n",
    "    #все веса нейронки (shared-переменные)\n",
    "    all_weights = lasagne.layers.get_all_params(dense_output)\n",
    "\n",
    "    #функция ошибки - средняя кроссэнтропия\n",
    "    loss = lasagne.objectives.categorical_crossentropy(y_predicted,target_y).mean()\n",
    "    accuracy = lasagne.objectives.categorical_accuracy(y_predicted,target_y).mean()\n",
    "\n",
    "    #сразу посчитать словарь обновлённых значений с шагом по градиенту, как раньше\n",
    "    updates = lasagne.updates.adam(loss, all_weights, learning_rate=learning_rate)\n",
    "\n",
    "    #функция, которая обучает сеть на 1 шаг и возвращащет значение функции потерь и точности\n",
    "    train_fun = theano.function([input_X,target_y],[loss,accuracy],updates=updates)\n",
    "    accuracy_fun = theano.function([input_X,target_y],accuracy)\n",
    "    return dense_output, train_fun, accuracy_fun"
   ]
  },
  {
   "cell_type": "code",
   "execution_count": 40,
   "metadata": {
    "collapsed": true
   },
   "outputs": [],
   "source": [
    "def run(X_train,y_train,X_val,y_val,X_test,y_test, **kwargs):\n",
    "    batch_size = kwargs.get('batch_size', 200)\n",
    "    widths = kwargs.get('widths', [1024])\n",
    "    num_epochs = kwargs.get('num_epochs', 4)\n",
    "    model_name = kwargs.get('model_name', 'default_dense_model')\n",
    "    snapshot_frequency = kwargs.get('snap_freq', 5)\n",
    "    print_frequency = kwargs.get('print_freq', 10)\n",
    "    network, train, acc = generate_train_acc(T.tensor4(\"X\"),\n",
    "                                             T.vector(\"target Y integer\", dtype='int32'),\n",
    "                                             widths,\n",
    "                                             1e-4,\n",
    "                                             model_name)\n",
    "    if os.path.isfile(os.path.join('models', model_name + '.npz')):\n",
    "        result = pickle.load(open(os.path.join('models', model_name + '.dict'), 'r'))\n",
    "        start_epoch = len(result['train_err'])\n",
    "    else:\n",
    "        start_epoch = 0\n",
    "        result = {}\n",
    "        result['train_err'] = []\n",
    "        result['train_acc'] = []\n",
    "        result['val_acc'] = []\n",
    "        result['epoch_times'] = []\n",
    "    \n",
    "    # Just profile if you need\n",
    "    #pr = cProfile.Profile()\n",
    "    #pr.enable()\n",
    "    \n",
    "    for epoch in range(start_epoch, num_epochs + start_epoch):\n",
    "        train_err = 0\n",
    "        train_acc = 0\n",
    "        train_batches = 0\n",
    "        start_time = time.time()\n",
    "        for batch in iterate_minibatches(X_train, y_train,batch_size):\n",
    "            inputs, targets = batch\n",
    "            train_err_batch, train_acc_batch= train(inputs, targets)\n",
    "            train_err += train_err_batch\n",
    "            train_acc += train_acc_batch\n",
    "            train_batches += 1\n",
    "\n",
    "        # And a full pass over the validation data:\n",
    "        val_acc = 0\n",
    "        val_batches = 0\n",
    "        for batch in iterate_minibatches(X_val, y_val, batch_size):\n",
    "            inputs, targets = batch\n",
    "            val_acc += acc(inputs, targets)\n",
    "            val_batches += 1\n",
    "\n",
    "        # Then we print the results for this epoch:\n",
    "        if epoch % print_frequency == 0:\n",
    "            print(\"for dense\")\n",
    "            print(\"Epoch {} of {} took {:.3f}s\".format(\n",
    "                epoch + 1, start_epoch + num_epochs, time.time() - start_time))\n",
    "            print(\"  training loss (in-iteration):\\t\\t{:.6f}\".format(train_err / train_batches))\n",
    "            print(\"  train accuracy:\\t\\t{:.2f} %\".format(\n",
    "                train_acc / train_batches * 100))\n",
    "            print(\"  validation accuracy:\\t\\t{:.2f} %\".format(\n",
    "                val_acc / val_batches * 100))\n",
    "            sys.stdout.flush()\n",
    "        result[\"train_err\"].append(train_err / train_batches)\n",
    "        result[\"train_acc\"].append(train_acc / train_batches * 100)\n",
    "        result[\"val_acc\"].append(val_acc / val_batches * 100)\n",
    "        result['epoch_times'].append(time.time() - start_time)\n",
    "        if epoch % snapshot_frequency == 0 or epoch + 1 == num_epochs + start_epoch:\n",
    "            np.savez(os.path.join('models', model_name + '.npz'), *lasagne.layers.get_all_param_values(network))\n",
    "            with open(os.path.join('models', model_name + '.dict'), 'wb') as pickle_file:\n",
    "                pickle.dump(result, pickle_file)\n",
    "            \n",
    "            \n",
    "    # Just profile if you need\n",
    "    #pr.disable()\n",
    "    #pr.print_stats(sort='cumtime')"
   ]
  },
  {
   "cell_type": "code",
   "execution_count": 30,
   "metadata": {
    "collapsed": false
   },
   "outputs": [
    {
     "name": "stdout",
     "output_type": "stream",
     "text": [
      "((50000, 1, 28, 28), (50000,))\n"
     ]
    }
   ],
   "source": [
    "from mnist.mnist import load_dataset\n",
    "X_train,y_train,X_val,y_val,X_test,y_test = load_dataset()\n",
    "print(X_train.shape,y_train.shape)"
   ]
  },
  {
   "cell_type": "code",
   "execution_count": null,
   "metadata": {
    "collapsed": false
   },
   "outputs": [
    {
     "name": "stdout",
     "output_type": "stream",
     "text": [
      "for dense\n",
      "Epoch 51 of 211 took 14.324s\n",
      "  training loss (in-iteration):\t\t0.007530\n",
      "  train accuracy:\t\t99.74 %\n",
      "  validation accuracy:\t\t98.85 %\n",
      "for dense\n",
      "Epoch 61 of 211 took 14.585s\n",
      "  training loss (in-iteration):\t\t0.005810\n",
      "  train accuracy:\t\t99.82 %\n",
      "  validation accuracy:\t\t99.02 %\n",
      "for dense\n",
      "Epoch 71 of 211 took 14.879s\n",
      "  training loss (in-iteration):\t\t0.004553\n",
      "  train accuracy:\t\t99.84 %\n",
      "  validation accuracy:\t\t98.91 %\n"
     ]
    }
   ],
   "source": [
    "params = {\n",
    "    'num_epochs': 165,\n",
    "}\n",
    "\n",
    "run(X_train,y_train,X_val,y_val,X_test,y_test, **params)"
   ]
  }
 ],
 "metadata": {
  "kernelspec": {
   "display_name": "Python 2",
   "language": "python",
   "name": "python2"
  },
  "language_info": {
   "codemirror_mode": {
    "name": "ipython",
    "version": 2
   },
   "file_extension": ".py",
   "mimetype": "text/x-python",
   "name": "python",
   "nbconvert_exporter": "python",
   "pygments_lexer": "ipython2",
   "version": "2.7.11"
  }
 },
 "nbformat": 4,
 "nbformat_minor": 0
}
